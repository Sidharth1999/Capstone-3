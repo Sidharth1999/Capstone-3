{
  "nbformat": 4,
  "nbformat_minor": 0,
  "metadata": {
    "colab": {
      "name": "Image Preprocessing.ipynb",
      "provenance": [],
      "collapsed_sections": [],
      "mount_file_id": "1xZxvYC0i8pjhcRyHs2L4Bc6teac2FFAI",
      "authorship_tag": "ABX9TyO1qVNSv94QvNOyZmtNbbnt",
      "include_colab_link": true
    },
    "kernelspec": {
      "name": "python3",
      "display_name": "Python 3"
    },
    "language_info": {
      "name": "python"
    },
    "accelerator": "GPU"
  },
  "cells": [
    {
      "cell_type": "markdown",
      "metadata": {
        "id": "view-in-github",
        "colab_type": "text"
      },
      "source": [
        "<a href=\"https://colab.research.google.com/github/Sidharth1999/Capstone-3/blob/main/Image_Preprocessing.ipynb\" target=\"_parent\"><img src=\"https://colab.research.google.com/assets/colab-badge.svg\" alt=\"Open In Colab\"/></a>"
      ]
    },
    {
      "cell_type": "code",
      "metadata": {
        "id": "KpE3fSO6-CSm"
      },
      "source": [
        "#Imports\n",
        "import pandas as pd\n",
        "import numpy as np\n",
        "import tensorflow as tf\n",
        "import os\n",
        "import pathlib\n",
        "import imageio\n",
        "import functools"
      ],
      "execution_count": 11,
      "outputs": []
    },
    {
      "cell_type": "code",
      "metadata": {
        "id": "5pyzXj-FLufL"
      },
      "source": [
        "dataDir = \"/content/drive/My Drive/Springboard-Capstone-3/data\"\n",
        "projectDir = \"/content/drive/My Drive/Springboard-Capstone-3\""
      ],
      "execution_count": 4,
      "outputs": []
    },
    {
      "cell_type": "code",
      "metadata": {
        "colab": {
          "resources": {
            "http://localhost:8080/nbextensions/google.colab/files.js": {
              "data": "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",
              "ok": true,
              "headers": [
                [
                  "content-type",
                  "application/javascript"
                ]
              ],
              "status": 200,
              "status_text": ""
            }
          },
          "base_uri": "https://localhost:8080/",
          "height": 90
        },
        "id": "uhs4ipfhJMc1",
        "outputId": "8cee756b-a57f-4c88-9c50-665aa18aa724"
      },
      "source": [
        "from google.colab import files\n",
        "files.upload()"
      ],
      "execution_count": null,
      "outputs": [
        {
          "output_type": "display_data",
          "data": {
            "text/html": [
              "\n",
              "     <input type=\"file\" id=\"files-1b966fe2-690d-44fc-89fe-3fc7c049393e\" name=\"files[]\" multiple disabled\n",
              "        style=\"border:none\" />\n",
              "     <output id=\"result-1b966fe2-690d-44fc-89fe-3fc7c049393e\">\n",
              "      Upload widget is only available when the cell has been executed in the\n",
              "      current browser session. Please rerun this cell to enable.\n",
              "      </output>\n",
              "      <script src=\"/nbextensions/google.colab/files.js\"></script> "
            ],
            "text/plain": [
              "<IPython.core.display.HTML object>"
            ]
          },
          "metadata": {
            "tags": []
          }
        },
        {
          "output_type": "stream",
          "text": [
            "Saving kaggle.json to kaggle.json\n"
          ],
          "name": "stdout"
        },
        {
          "output_type": "execute_result",
          "data": {
            "text/plain": [
              "{'kaggle.json': b'{\"username\":\"sidharthr1999\",\"key\":\"b06c0eb687ec8653837b4badf109296d\"}'}"
            ]
          },
          "metadata": {
            "tags": []
          },
          "execution_count": 4
        }
      ]
    },
    {
      "cell_type": "code",
      "metadata": {
        "id": "3Y8ELj7UKvDe"
      },
      "source": [
        "! mkdir ~/.kaggle\n",
        "! cp kaggle.json ~/.kaggle/\n",
        "! chmod 600 ~/.kaggle/kaggle.json"
      ],
      "execution_count": null,
      "outputs": []
    },
    {
      "cell_type": "code",
      "metadata": {
        "colab": {
          "base_uri": "https://localhost:8080/"
        },
        "id": "FMi4RYmPK1az",
        "outputId": "4f898ea1-7ebf-427f-f923-df34177ba55e"
      },
      "source": [
        "# Verify that kaggle commands work\n",
        "! kaggle datasets list"
      ],
      "execution_count": null,
      "outputs": [
        {
          "output_type": "stream",
          "text": [
            "Warning: Looks like you're using an outdated API Version, please consider updating (server 1.5.12 / client 1.5.4)\n",
            "ref                                                         title                                              size  lastUpdated          downloadCount  \n",
            "----------------------------------------------------------  ------------------------------------------------  -----  -------------------  -------------  \n",
            "gpreda/reddit-vaccine-myths                                 Reddit Vaccine Myths                              229KB  2021-06-01 11:18:46           6831  \n",
            "crowww/a-large-scale-fish-dataset                           A Large Scale Fish Dataset                          3GB  2021-04-28 17:03:01           4086  \n",
            "imsparsh/musicnet-dataset                                   MusicNet Dataset                                   22GB  2021-02-18 14:12:19           1364  \n",
            "dhruvildave/wikibooks-dataset                               Wikibooks Dataset                                   1GB  2021-02-18 10:08:27           2128  \n",
            "mathurinache/twitter-edge-nodes                             Twitter Edge Nodes                                342MB  2021-03-08 06:43:04            459  \n",
            "fatiimaezzahra/famous-iconic-women                          Famous Iconic Women                               838MB  2021-02-28 14:56:00            689  \n",
            "promptcloud/careerbuilder-job-listing-2020                  Careerbuilder Job Listing 2020                     42MB  2021-03-05 06:59:52            978  \n",
            "alsgroup/end-als                                            End ALS Kaggle Challenge                           12GB  2021-04-08 12:16:37            698  \n",
            "coloradokb/dandelionimages                                  DandelionImages                                     4GB  2021-02-19 20:03:47            412  \n",
            "nickuzmenkov/nih-chest-xrays-tfrecords                      NIH Chest X-rays TFRecords                         11GB  2021-03-09 04:49:23            554  \n",
            "simiotic/github-code-snippets                               GitHub Code Snippets                                7GB  2021-03-03 11:34:39            146  \n",
            "mathurinache/the-lj-speech-dataset                          The LJ Speech Dataset                               3GB  2021-02-15 09:19:54            170  \n",
            "stuartjames/lights                                          LightS: Light Specularity Dataset                  18GB  2021-02-18 14:32:26             66  \n",
            "landrykezebou/lvzhdr-tone-mapping-benchmark-dataset-tmonet  LVZ-HDR Tone Mapping Benchmark Dataset (TMO-Net)   24GB  2021-03-01 05:03:40             84  \n",
            "nickuzmenkov/ranzcr-clip-kfold-tfrecords                    RANZCR CLiP KFold TFRecords                         2GB  2021-02-21 13:29:51             82  \n",
            "imsparsh/accentdb-core-extended                             AccentDB - Core & Extended                          6GB  2021-02-17 14:22:54             77  \n",
            "datasnaek/youtube-new                                       Trending YouTube Video Statistics                 201MB  2019-06-03 00:56:47         141760  \n",
            "zynicide/wine-reviews                                       Wine Reviews                                       51MB  2017-11-27 17:08:04         137844  \n",
            "residentmario/ramen-ratings                                 Ramen Ratings                                      40KB  2018-01-11 16:04:39          23641  \n",
            "datasnaek/chess                                             Chess Game Dataset (Lichess)                        3MB  2017-09-04 03:09:09          18934  \n"
          ],
          "name": "stdout"
        }
      ]
    },
    {
      "cell_type": "code",
      "metadata": {
        "id": "w36rN7W2QMKf"
      },
      "source": [
        "dataset1 = \"iamsouravbanerjee/indian-food-images-dataset\""
      ],
      "execution_count": null,
      "outputs": []
    },
    {
      "cell_type": "code",
      "metadata": {
        "colab": {
          "base_uri": "https://localhost:8080/"
        },
        "id": "3iCYLqDmLnpY",
        "outputId": "01c26230-5c86-4ca4-9a68-d4979a1e725e"
      },
      "source": [
        "#Download dataset\n",
        "\n",
        "!kaggle datasets download $dataset1 -p \"$dataDir\" --unzip"
      ],
      "execution_count": null,
      "outputs": [
        {
          "output_type": "stream",
          "text": [
            "Downloading indian-food-images-dataset.zip to /content/drive/My Drive/Springboard-Capstone-3/data\n",
            " 97% 343M/354M [00:02<00:00, 128MB/s]\n",
            "100% 354M/354M [00:03<00:00, 123MB/s]\n"
          ],
          "name": "stdout"
        }
      ]
    },
    {
      "cell_type": "code",
      "metadata": {
        "id": "aeVk5P0_AlfB"
      },
      "source": [
        "######## Preparing data for CNN models #########"
      ],
      "execution_count": null,
      "outputs": []
    },
    {
      "cell_type": "code",
      "metadata": {
        "colab": {
          "base_uri": "https://localhost:8080/"
        },
        "id": "q6tfMKi4GsOr",
        "outputId": "da6a51be-fa5a-45d6-97f9-cf23ef010314"
      },
      "source": [
        "#Obtain all 80 categories\n",
        "categories = []\n",
        "for file in os.listdir(dataDir): categories.append(file)\n",
        "print(categories)"
      ],
      "execution_count": 4,
      "outputs": [
        {
          "output_type": "stream",
          "text": [
            "['adhirasam', 'aloo_gobi', 'aloo_matar', 'aloo_methi', 'aloo_shimla_mirch', 'aloo_tikki', 'anarsa', 'ariselu', 'bandar_laddu', 'basundi', 'bhatura', 'bhindi_masala', 'biryani', 'boondi', 'butter_chicken', 'chak_hao_kheer', 'cham_cham', 'chana_masala', 'chapati', 'chhena_kheeri', 'chicken_razala', 'chicken_tikka', 'chicken_tikka_masala', 'chikki', 'daal_baati_churma', 'daal_puri', 'dal_makhani', 'dal_tadka', 'dharwad_pedha', 'doodhpak', 'double_ka_meetha', 'dum_aloo', 'gajar_ka_halwa', 'gavvalu', 'ghevar', 'gulab_jamun', 'imarti', 'jalebi', 'kachori', 'kadai_paneer', 'kadhi_pakoda', 'kajjikaya', 'kakinada_khaja', 'kalakand', 'karela_bharta', 'kofta', 'kuzhi_paniyaram', 'lassi', 'ledikeni', 'litti_chokha', 'lyangcha', 'maach_jhol', 'makki_di_roti_sarson_da_saag', 'malapua', 'misi_roti', 'misti_doi', 'modak', 'mysore_pak', 'naan', 'navrattan_korma', 'palak_paneer', 'paneer_butter_masala', 'phirni', 'pithe', 'poha', 'poornalu', 'pootharekulu', 'qubani_ka_meetha', 'rabri', 'ras_malai', 'rasgulla', 'sandesh', 'shankarpali', 'sheer_korma', 'sheera', 'shrikhand', 'sohan_halwa', 'sohan_papdi', 'sutar_feni', 'unni_appam']\n"
          ],
          "name": "stdout"
        }
      ]
    },
    {
      "cell_type": "code",
      "metadata": {
        "colab": {
          "base_uri": "https://localhost:8080/"
        },
        "id": "so_AyIDaIjCt",
        "outputId": "2052a1ec-adbe-460e-bec9-a7b432d18c05"
      },
      "source": [
        "#Extract all 4000 image paths for each of the 80 categories\n",
        "def imagePathsFromCategory(category):\n",
        "  generator = pathlib.Path(dataDir + '/' + category).glob('*.jpg')\n",
        "  sorted_paths = sorted([x for x in generator])\n",
        "  return sorted_paths \n",
        "\n",
        "image_paths = [imagePathsFromCategory(category) for category in categories]\n",
        "\n",
        "#Confirm all 4000 image paths were extracted:\n",
        "print(functools.reduce(lambda a, b: a+b, [len(categoryPaths) for categoryPaths in image_paths]))"
      ],
      "execution_count": 5,
      "outputs": [
        {
          "output_type": "stream",
          "text": [
            "4000\n"
          ],
          "name": "stdout"
        }
      ]
    },
    {
      "cell_type": "code",
      "metadata": {
        "id": "5bjY_u6wOuKo"
      },
      "source": [
        "#Split each of the 80 categories into train, validation, and test\n",
        "from sklearn.model_selection import train_test_split\n",
        "train = []\n",
        "validation = []\n",
        "test = []\n",
        "for i in range(len(image_paths)):\n",
        "  train_images, test_images, _, _ = train_test_split(image_paths[i], range(len(image_paths[i])), test_size=0.20, random_state=42)\n",
        "  train_images, validation_images, _, _ = train_test_split(train_images, range(len(train_images)), test_size=0.20, random_state=42)\n",
        "  train.append(train_images)\n",
        "  validation.append(validation_images)\n",
        "  test.append(test_images)"
      ],
      "execution_count": 8,
      "outputs": []
    },
    {
      "cell_type": "code",
      "metadata": {
        "id": "mC1HsNuP79_u"
      },
      "source": [
        "#Make separate directories for each set\n",
        "os.mkdir(os.path.join(projectDir, \"train\"))\n",
        "os.mkdir(os.path.join(projectDir, \"validation\"))\n",
        "os.mkdir(os.path.join(projectDir, \"test\"))"
      ],
      "execution_count": 11,
      "outputs": []
    },
    {
      "cell_type": "code",
      "metadata": {
        "id": "B5qytGwTbcK8"
      },
      "source": [
        "trainDir = projectDir + \"/\" + \"train\"\n",
        "validationDir = projectDir + \"/\" + \"validation\"\n",
        "testDir = projectDir + \"/\" + \"test\""
      ],
      "execution_count": 5,
      "outputs": []
    },
    {
      "cell_type": "code",
      "metadata": {
        "id": "fdbvQkh2Vnrz"
      },
      "source": [
        "#Insert data from each category into the newly created train, validation, and test folders\n",
        "for i in range(len(categories)):\n",
        "  category = categories[i]\n",
        "  train_set = train[i]\n",
        "  validation_set = validation[i]\n",
        "  test_set = test[i]\n",
        "  trainDestDir = os.path.join(trainDir, category)\n",
        "  valDestDir = os.path.join(validationDir, category)\n",
        "  testDestDir = os.path.join(testDir, category)\n",
        "  os.mkdir(trainDestDir)\n",
        "  os.mkdir(valDestDir)\n",
        "  os.mkdir(testDestDir)\n",
        "\n",
        "  for j in range(len(train_set)):\n",
        "    impath = os.path.join(trainDestDir, f'image{j}.jpg')\n",
        "    imageio.imwrite(impath, imageio.imread(train_set[j]))\n",
        "\n",
        "  for j in range(len(validation_set)):\n",
        "    impath = os.path.join(valDestDir, f'image{j}.jpg')\n",
        "    imageio.imwrite(impath, imageio.imread(validation_set[j]))\n",
        "\n",
        "  for j in range(len(test_set)):\n",
        "    impath = os.path.join(testDestDir, f'image{j}.jpg')\n",
        "    imageio.imwrite(impath, imageio.imread(test_set[j]))"
      ],
      "execution_count": null,
      "outputs": []
    },
    {
      "cell_type": "code",
      "metadata": {
        "id": "OllzWDvlArph",
        "colab": {
          "base_uri": "https://localhost:8080/"
        },
        "outputId": "60b7aae4-a071-4fc4-b2bb-378e45d11a51"
      },
      "source": [
        "#Build data generators\n",
        "from tensorflow.python.keras.preprocessing.image import ImageDataGenerator\n",
        "\n",
        "train_datagen = ImageDataGenerator(\n",
        "        rescale=1./255,\n",
        "        shear_range=0.2,\n",
        "        zoom_range=0.2,\n",
        "        horizontal_flip=True)\n",
        "test_datagen = ImageDataGenerator(\n",
        "    rescale=1./255)\n",
        "train_generator = train_datagen.flow_from_directory(\n",
        "        trainDir,\n",
        "        target_size=(150, 150),\n",
        "        batch_size=32,\n",
        "        class_mode='categorical')\n",
        "validation_generator = test_datagen.flow_from_directory(\n",
        "        validationDir,\n",
        "        target_size=(150, 150),\n",
        "        batch_size=32,\n",
        "        class_mode='categorical')"
      ],
      "execution_count": 6,
      "outputs": [
        {
          "output_type": "stream",
          "text": [
            "Found 2560 images belonging to 80 classes.\n",
            "Found 640 images belonging to 80 classes.\n"
          ],
          "name": "stdout"
        }
      ]
    },
    {
      "cell_type": "code",
      "metadata": {
        "id": "_nP7yDZAXmdX"
      },
      "source": [
        "####### MODELING ########"
      ],
      "execution_count": null,
      "outputs": []
    },
    {
      "cell_type": "code",
      "metadata": {
        "colab": {
          "base_uri": "https://localhost:8080/",
          "height": 37
        },
        "id": "RE8xoKGnLzeu",
        "outputId": "080493cc-7f12-4997-d988-1bac6d0623e0"
      },
      "source": [
        "'''We are going to try 4 different CNN architectures:\n",
        "1)VGG16\n",
        "2)ResNet50\n",
        "3)InceptionV3\n",
        "4)DenseNet201\n",
        "'''"
      ],
      "execution_count": 1,
      "outputs": [
        {
          "output_type": "execute_result",
          "data": {
            "application/vnd.google.colaboratory.intrinsic+json": {
              "type": "string"
            },
            "text/plain": [
              "'We are going to try 3 different CNN architectures:\\nVGG16\\nResNet50\\nInceptionV3\\n'"
            ]
          },
          "metadata": {
            "tags": []
          },
          "execution_count": 1
        }
      ]
    },
    {
      "cell_type": "code",
      "metadata": {
        "colab": {
          "base_uri": "https://localhost:8080/"
        },
        "id": "kxicPTxbVaG6",
        "outputId": "dd604ce5-ae17-4e7e-dd27-bd5171635dc5"
      },
      "source": [
        "#VGG16\n",
        "from tensorflow.keras.applications import VGG16\n",
        "vggModel = VGG16(include_top=False, weights='imagenet')\n",
        "vggModel.summary()"
      ],
      "execution_count": 7,
      "outputs": [
        {
          "output_type": "stream",
          "text": [
            "Model: \"vgg16\"\n",
            "_________________________________________________________________\n",
            "Layer (type)                 Output Shape              Param #   \n",
            "=================================================================\n",
            "input_2 (InputLayer)         [(None, None, None, 3)]   0         \n",
            "_________________________________________________________________\n",
            "block1_conv1 (Conv2D)        (None, None, None, 64)    1792      \n",
            "_________________________________________________________________\n",
            "block1_conv2 (Conv2D)        (None, None, None, 64)    36928     \n",
            "_________________________________________________________________\n",
            "block1_pool (MaxPooling2D)   (None, None, None, 64)    0         \n",
            "_________________________________________________________________\n",
            "block2_conv1 (Conv2D)        (None, None, None, 128)   73856     \n",
            "_________________________________________________________________\n",
            "block2_conv2 (Conv2D)        (None, None, None, 128)   147584    \n",
            "_________________________________________________________________\n",
            "block2_pool (MaxPooling2D)   (None, None, None, 128)   0         \n",
            "_________________________________________________________________\n",
            "block3_conv1 (Conv2D)        (None, None, None, 256)   295168    \n",
            "_________________________________________________________________\n",
            "block3_conv2 (Conv2D)        (None, None, None, 256)   590080    \n",
            "_________________________________________________________________\n",
            "block3_conv3 (Conv2D)        (None, None, None, 256)   590080    \n",
            "_________________________________________________________________\n",
            "block3_pool (MaxPooling2D)   (None, None, None, 256)   0         \n",
            "_________________________________________________________________\n",
            "block4_conv1 (Conv2D)        (None, None, None, 512)   1180160   \n",
            "_________________________________________________________________\n",
            "block4_conv2 (Conv2D)        (None, None, None, 512)   2359808   \n",
            "_________________________________________________________________\n",
            "block4_conv3 (Conv2D)        (None, None, None, 512)   2359808   \n",
            "_________________________________________________________________\n",
            "block4_pool (MaxPooling2D)   (None, None, None, 512)   0         \n",
            "_________________________________________________________________\n",
            "block5_conv1 (Conv2D)        (None, None, None, 512)   2359808   \n",
            "_________________________________________________________________\n",
            "block5_conv2 (Conv2D)        (None, None, None, 512)   2359808   \n",
            "_________________________________________________________________\n",
            "block5_conv3 (Conv2D)        (None, None, None, 512)   2359808   \n",
            "_________________________________________________________________\n",
            "block5_pool (MaxPooling2D)   (None, None, None, 512)   0         \n",
            "=================================================================\n",
            "Total params: 14,714,688\n",
            "Trainable params: 14,714,688\n",
            "Non-trainable params: 0\n",
            "_________________________________________________________________\n"
          ],
          "name": "stdout"
        }
      ]
    },
    {
      "cell_type": "code",
      "metadata": {
        "id": "50Z1r0bQZ0_b"
      },
      "source": [
        "#Extract VGG16 Features - RUN ONLY ONCE AND THEN SAVE\n",
        "vggTrainFeatures = vggModel.predict(train_generator)\n",
        "vggValFeatures = vggModel.predict(validation_generator)"
      ],
      "execution_count": 8,
      "outputs": []
    },
    {
      "cell_type": "code",
      "metadata": {
        "id": "s2YxvVaPfhs3"
      },
      "source": [
        "#Make a directory to save these features\n",
        "cnnFeaturesDir = os.path.join(projectDir, 'CNN Architecture Features')\n",
        "os.mkdir(cnnFeaturesDir)"
      ],
      "execution_count": 14,
      "outputs": []
    },
    {
      "cell_type": "code",
      "metadata": {
        "id": "vzTzFjOMeo8G"
      },
      "source": [
        "#Save the features - it is somewhat expensive to recompute (~12 minutes)\n",
        "np.save(cnnFeaturesDir + '/' + 'VGG16-train-features.npy', vggTrainFeatures)\n",
        "np.save(cnnFeaturesDir + '/' + 'VGG16-val-features.npy', vggValFeatures)"
      ],
      "execution_count": 15,
      "outputs": []
    },
    {
      "cell_type": "code",
      "metadata": {
        "id": "fopEWqeWgctV"
      },
      "source": [
        "#Retrieve features from project directory\n",
        "vggTrainData = np.load(cnnFeaturesDir + '/' + 'VGG16-train-features.npy')\n",
        "vggValData = np.load(cnnFeaturesDir + '/' + 'VGG16-val-features.npy')"
      ],
      "execution_count": 17,
      "outputs": []
    },
    {
      "cell_type": "code",
      "metadata": {
        "id": "C9ZNQrTPiQRU"
      },
      "source": [
        "from tensorflow.keras.utils import to_categorical\n",
        "trainTarget = to_categorical(train_generator.labels)\n",
        "valTarget = to_categorical(validation_generator.labels)"
      ],
      "execution_count": 18,
      "outputs": []
    },
    {
      "cell_type": "code",
      "metadata": {
        "colab": {
          "base_uri": "https://localhost:8080/"
        },
        "id": "sphJa8_Emc1C",
        "outputId": "0d4751ba-a9cb-4a27-bbde-6fba55de719a"
      },
      "source": [
        "#Structure, compile and train the VGG16 model\n",
        "from tensorflow.keras.models import Sequential\n",
        "from tensorflow.keras.layers import Dense, Dropout, Flatten, BatchNormalization, LeakyReLU\n",
        "\n",
        "model1 = Sequential()\n",
        "model1.add(Flatten(input_shape=vggTrainData.shape[1:]))\n",
        "model1.add(Dense(200, activation=LeakyReLU(alpha=0.3)))\n",
        "model1.add(Dropout(0.5)) \n",
        "model1.add(Dense(100, activation=LeakyReLU(alpha=0.3))) \n",
        "model1.add(Dropout(0.3)) \n",
        "model1.add(Dense(80, activation='softmax'))\n",
        "\n",
        "model1.compile(optimizer='adam', metrics=['accuracy'], loss='categorical_crossentropy')\n",
        "\n",
        "history = model1.fit(vggTrainData, trainTarget, epochs=75, batch_size=32, validation_data=(vggValData, valTarget))\n",
        "\n",
        "(eval_loss, eval_accuracy) = model1.evaluate(vggValData, valTarget, batch_size=32, verbose=1)\n",
        "print(\"Accuracy: {:.2f}%\".format(eval_accuracy * 100)) \n",
        "print(\"Loss: {}\".format(eval_loss))"
      ],
      "execution_count": 27,
      "outputs": [
        {
          "output_type": "stream",
          "text": [
            "Epoch 1/75\n",
            "80/80 [==============================] - 1s 5ms/step - loss: 4.7898 - accuracy: 0.0078 - val_loss: 4.4495 - val_accuracy: 0.0109\n",
            "Epoch 2/75\n",
            "80/80 [==============================] - 0s 4ms/step - loss: 4.4517 - accuracy: 0.0254 - val_loss: 4.4904 - val_accuracy: 0.0094\n",
            "Epoch 3/75\n",
            "80/80 [==============================] - 0s 4ms/step - loss: 4.2404 - accuracy: 0.0531 - val_loss: 4.5322 - val_accuracy: 0.0156\n",
            "Epoch 4/75\n",
            "80/80 [==============================] - 0s 4ms/step - loss: 4.0495 - accuracy: 0.0812 - val_loss: 4.5118 - val_accuracy: 0.0094\n",
            "Epoch 5/75\n",
            "80/80 [==============================] - 0s 4ms/step - loss: 3.7499 - accuracy: 0.1293 - val_loss: 4.7391 - val_accuracy: 0.0125\n",
            "Epoch 6/75\n",
            "80/80 [==============================] - 0s 4ms/step - loss: 3.4745 - accuracy: 0.1750 - val_loss: 4.8281 - val_accuracy: 0.0109\n",
            "Epoch 7/75\n",
            "80/80 [==============================] - 0s 4ms/step - loss: 3.1600 - accuracy: 0.2480 - val_loss: 4.8561 - val_accuracy: 0.0156\n",
            "Epoch 8/75\n",
            "80/80 [==============================] - 0s 4ms/step - loss: 2.8189 - accuracy: 0.2891 - val_loss: 5.0406 - val_accuracy: 0.0047\n",
            "Epoch 9/75\n",
            "80/80 [==============================] - 0s 4ms/step - loss: 2.5739 - accuracy: 0.3516 - val_loss: 5.2401 - val_accuracy: 0.0141\n",
            "Epoch 10/75\n",
            "80/80 [==============================] - 0s 4ms/step - loss: 2.2901 - accuracy: 0.4098 - val_loss: 5.1899 - val_accuracy: 0.0156\n",
            "Epoch 11/75\n",
            "80/80 [==============================] - 0s 4ms/step - loss: 2.0506 - accuracy: 0.4660 - val_loss: 5.4777 - val_accuracy: 0.0141\n",
            "Epoch 12/75\n",
            "80/80 [==============================] - 0s 3ms/step - loss: 1.7716 - accuracy: 0.5285 - val_loss: 5.7121 - val_accuracy: 0.0078\n",
            "Epoch 13/75\n",
            "80/80 [==============================] - 0s 4ms/step - loss: 1.6574 - accuracy: 0.5469 - val_loss: 5.6647 - val_accuracy: 0.0078\n",
            "Epoch 14/75\n",
            "80/80 [==============================] - 0s 4ms/step - loss: 1.4054 - accuracy: 0.6066 - val_loss: 5.9987 - val_accuracy: 0.0125\n",
            "Epoch 15/75\n",
            "80/80 [==============================] - 0s 4ms/step - loss: 1.1847 - accuracy: 0.6863 - val_loss: 6.2881 - val_accuracy: 0.0156\n",
            "Epoch 16/75\n",
            "80/80 [==============================] - 0s 4ms/step - loss: 1.0545 - accuracy: 0.7121 - val_loss: 6.4699 - val_accuracy: 0.0094\n",
            "Epoch 17/75\n",
            "80/80 [==============================] - 0s 4ms/step - loss: 0.9679 - accuracy: 0.7273 - val_loss: 6.2457 - val_accuracy: 0.0109\n",
            "Epoch 18/75\n",
            "80/80 [==============================] - 0s 4ms/step - loss: 0.9427 - accuracy: 0.7254 - val_loss: 6.6105 - val_accuracy: 0.0000e+00\n",
            "Epoch 19/75\n",
            "80/80 [==============================] - 0s 4ms/step - loss: 0.8147 - accuracy: 0.7738 - val_loss: 6.7447 - val_accuracy: 0.0063\n",
            "Epoch 20/75\n",
            "80/80 [==============================] - 0s 4ms/step - loss: 0.7699 - accuracy: 0.7875 - val_loss: 7.0771 - val_accuracy: 0.0047\n",
            "Epoch 21/75\n",
            "80/80 [==============================] - 0s 4ms/step - loss: 0.6843 - accuracy: 0.8062 - val_loss: 7.1177 - val_accuracy: 0.0063\n",
            "Epoch 22/75\n",
            "80/80 [==============================] - 0s 4ms/step - loss: 0.6213 - accuracy: 0.8141 - val_loss: 7.3189 - val_accuracy: 0.0063\n",
            "Epoch 23/75\n",
            "80/80 [==============================] - 0s 4ms/step - loss: 0.6024 - accuracy: 0.8262 - val_loss: 7.7885 - val_accuracy: 0.0063\n",
            "Epoch 24/75\n",
            "80/80 [==============================] - 0s 4ms/step - loss: 0.5529 - accuracy: 0.8320 - val_loss: 7.6833 - val_accuracy: 0.0109\n",
            "Epoch 25/75\n",
            "80/80 [==============================] - 0s 4ms/step - loss: 0.5218 - accuracy: 0.8527 - val_loss: 7.7659 - val_accuracy: 0.0109\n",
            "Epoch 26/75\n",
            "80/80 [==============================] - 0s 4ms/step - loss: 0.5128 - accuracy: 0.8477 - val_loss: 7.5377 - val_accuracy: 0.0063\n",
            "Epoch 27/75\n",
            "80/80 [==============================] - 0s 4ms/step - loss: 0.4821 - accuracy: 0.8543 - val_loss: 7.5553 - val_accuracy: 0.0094\n",
            "Epoch 28/75\n",
            "80/80 [==============================] - 0s 4ms/step - loss: 0.4556 - accuracy: 0.8684 - val_loss: 7.9249 - val_accuracy: 0.0094\n",
            "Epoch 29/75\n",
            "80/80 [==============================] - 0s 4ms/step - loss: 0.4406 - accuracy: 0.8668 - val_loss: 7.8409 - val_accuracy: 0.0047\n",
            "Epoch 30/75\n",
            "80/80 [==============================] - 0s 4ms/step - loss: 0.4485 - accuracy: 0.8703 - val_loss: 7.5931 - val_accuracy: 0.0063\n",
            "Epoch 31/75\n",
            "80/80 [==============================] - 0s 3ms/step - loss: 0.4113 - accuracy: 0.8754 - val_loss: 7.8319 - val_accuracy: 0.0047\n",
            "Epoch 32/75\n",
            "80/80 [==============================] - 0s 4ms/step - loss: 0.3647 - accuracy: 0.8906 - val_loss: 8.2177 - val_accuracy: 0.0109\n",
            "Epoch 33/75\n",
            "80/80 [==============================] - 0s 3ms/step - loss: 0.3937 - accuracy: 0.8840 - val_loss: 8.6708 - val_accuracy: 0.0094\n",
            "Epoch 34/75\n",
            "80/80 [==============================] - 0s 4ms/step - loss: 0.4552 - accuracy: 0.8652 - val_loss: 8.6141 - val_accuracy: 0.0125\n",
            "Epoch 35/75\n",
            "80/80 [==============================] - 0s 4ms/step - loss: 0.4250 - accuracy: 0.8793 - val_loss: 8.7685 - val_accuracy: 0.0063\n",
            "Epoch 36/75\n",
            "80/80 [==============================] - 0s 4ms/step - loss: 0.3972 - accuracy: 0.8867 - val_loss: 9.0195 - val_accuracy: 0.0063\n",
            "Epoch 37/75\n",
            "80/80 [==============================] - 0s 4ms/step - loss: 0.3701 - accuracy: 0.8891 - val_loss: 8.6354 - val_accuracy: 0.0094\n",
            "Epoch 38/75\n",
            "80/80 [==============================] - 0s 4ms/step - loss: 0.4044 - accuracy: 0.8777 - val_loss: 9.0016 - val_accuracy: 0.0078\n",
            "Epoch 39/75\n",
            "80/80 [==============================] - 0s 4ms/step - loss: 0.3319 - accuracy: 0.8988 - val_loss: 8.5685 - val_accuracy: 0.0109\n",
            "Epoch 40/75\n",
            "80/80 [==============================] - 0s 4ms/step - loss: 0.3315 - accuracy: 0.8969 - val_loss: 8.9746 - val_accuracy: 0.0109\n",
            "Epoch 41/75\n",
            "80/80 [==============================] - 0s 4ms/step - loss: 0.4335 - accuracy: 0.8742 - val_loss: 8.3231 - val_accuracy: 0.0203\n",
            "Epoch 42/75\n",
            "80/80 [==============================] - 0s 4ms/step - loss: 0.3693 - accuracy: 0.8844 - val_loss: 9.0102 - val_accuracy: 0.0094\n",
            "Epoch 43/75\n",
            "80/80 [==============================] - 0s 4ms/step - loss: 0.3503 - accuracy: 0.8926 - val_loss: 9.5598 - val_accuracy: 0.0063\n",
            "Epoch 44/75\n",
            "80/80 [==============================] - 0s 4ms/step - loss: 0.3836 - accuracy: 0.8836 - val_loss: 9.3613 - val_accuracy: 0.0094\n",
            "Epoch 45/75\n",
            "80/80 [==============================] - 0s 4ms/step - loss: 0.3791 - accuracy: 0.8891 - val_loss: 9.4192 - val_accuracy: 0.0109\n",
            "Epoch 46/75\n",
            "80/80 [==============================] - 0s 4ms/step - loss: 0.3254 - accuracy: 0.8980 - val_loss: 8.9038 - val_accuracy: 0.0109\n",
            "Epoch 47/75\n",
            "80/80 [==============================] - 0s 4ms/step - loss: 0.3277 - accuracy: 0.8969 - val_loss: 9.8852 - val_accuracy: 0.0109\n",
            "Epoch 48/75\n",
            "80/80 [==============================] - 0s 4ms/step - loss: 0.3800 - accuracy: 0.8875 - val_loss: 9.7112 - val_accuracy: 0.0109\n",
            "Epoch 49/75\n",
            "80/80 [==============================] - 0s 4ms/step - loss: 0.3321 - accuracy: 0.9012 - val_loss: 10.1954 - val_accuracy: 0.0078\n",
            "Epoch 50/75\n",
            "80/80 [==============================] - 0s 4ms/step - loss: 0.2828 - accuracy: 0.9168 - val_loss: 9.2425 - val_accuracy: 0.0156\n",
            "Epoch 51/75\n",
            "80/80 [==============================] - 0s 4ms/step - loss: 0.2857 - accuracy: 0.9145 - val_loss: 9.9282 - val_accuracy: 0.0094\n",
            "Epoch 52/75\n",
            "80/80 [==============================] - 0s 4ms/step - loss: 0.2694 - accuracy: 0.9176 - val_loss: 10.1132 - val_accuracy: 0.0094\n",
            "Epoch 53/75\n",
            "80/80 [==============================] - 0s 4ms/step - loss: 0.2939 - accuracy: 0.9129 - val_loss: 10.0922 - val_accuracy: 0.0141\n",
            "Epoch 54/75\n",
            "80/80 [==============================] - 0s 4ms/step - loss: 0.2997 - accuracy: 0.9094 - val_loss: 10.2989 - val_accuracy: 0.0234\n",
            "Epoch 55/75\n",
            "80/80 [==============================] - 0s 4ms/step - loss: 0.2720 - accuracy: 0.9172 - val_loss: 10.4851 - val_accuracy: 0.0063\n",
            "Epoch 56/75\n",
            "80/80 [==============================] - 0s 4ms/step - loss: 0.3206 - accuracy: 0.9020 - val_loss: 10.5308 - val_accuracy: 0.0078\n",
            "Epoch 57/75\n",
            "80/80 [==============================] - 0s 4ms/step - loss: 0.2965 - accuracy: 0.9113 - val_loss: 10.0956 - val_accuracy: 0.0109\n",
            "Epoch 58/75\n",
            "80/80 [==============================] - 0s 4ms/step - loss: 0.2731 - accuracy: 0.9191 - val_loss: 10.1651 - val_accuracy: 0.0094\n",
            "Epoch 59/75\n",
            "80/80 [==============================] - 0s 4ms/step - loss: 0.3114 - accuracy: 0.9047 - val_loss: 10.2778 - val_accuracy: 0.0141\n",
            "Epoch 60/75\n",
            "80/80 [==============================] - 0s 4ms/step - loss: 0.3146 - accuracy: 0.9090 - val_loss: 10.0292 - val_accuracy: 0.0125\n",
            "Epoch 61/75\n",
            "80/80 [==============================] - 0s 4ms/step - loss: 0.2936 - accuracy: 0.9109 - val_loss: 10.3855 - val_accuracy: 0.0125\n",
            "Epoch 62/75\n",
            "80/80 [==============================] - 0s 4ms/step - loss: 0.2855 - accuracy: 0.9125 - val_loss: 10.8877 - val_accuracy: 0.0078\n",
            "Epoch 63/75\n",
            "80/80 [==============================] - 0s 4ms/step - loss: 0.3148 - accuracy: 0.9195 - val_loss: 10.8041 - val_accuracy: 0.0094\n",
            "Epoch 64/75\n",
            "80/80 [==============================] - 0s 4ms/step - loss: 0.3223 - accuracy: 0.9016 - val_loss: 11.1218 - val_accuracy: 0.0156\n",
            "Epoch 65/75\n",
            "80/80 [==============================] - 0s 4ms/step - loss: 0.3155 - accuracy: 0.9105 - val_loss: 11.4163 - val_accuracy: 0.0125\n",
            "Epoch 66/75\n",
            "80/80 [==============================] - 0s 4ms/step - loss: 0.2492 - accuracy: 0.9277 - val_loss: 11.3640 - val_accuracy: 0.0094\n",
            "Epoch 67/75\n",
            "80/80 [==============================] - 0s 4ms/step - loss: 0.2893 - accuracy: 0.9172 - val_loss: 10.0468 - val_accuracy: 0.0141\n",
            "Epoch 68/75\n",
            "80/80 [==============================] - 0s 4ms/step - loss: 0.2949 - accuracy: 0.9223 - val_loss: 10.8500 - val_accuracy: 0.0109\n",
            "Epoch 69/75\n",
            "80/80 [==============================] - 0s 4ms/step - loss: 0.3061 - accuracy: 0.9152 - val_loss: 11.3153 - val_accuracy: 0.0109\n",
            "Epoch 70/75\n",
            "80/80 [==============================] - 0s 4ms/step - loss: 0.2353 - accuracy: 0.9367 - val_loss: 11.5606 - val_accuracy: 0.0141\n",
            "Epoch 71/75\n",
            "80/80 [==============================] - 0s 4ms/step - loss: 0.2822 - accuracy: 0.9195 - val_loss: 10.9499 - val_accuracy: 0.0125\n",
            "Epoch 72/75\n",
            "80/80 [==============================] - 0s 4ms/step - loss: 0.2703 - accuracy: 0.9227 - val_loss: 10.7377 - val_accuracy: 0.0141\n",
            "Epoch 73/75\n",
            "80/80 [==============================] - 0s 4ms/step - loss: 0.2956 - accuracy: 0.9152 - val_loss: 10.9982 - val_accuracy: 0.0094\n",
            "Epoch 74/75\n",
            "80/80 [==============================] - 0s 4ms/step - loss: 0.2804 - accuracy: 0.9172 - val_loss: 11.6861 - val_accuracy: 0.0078\n",
            "Epoch 75/75\n",
            "80/80 [==============================] - 0s 4ms/step - loss: 0.3033 - accuracy: 0.9125 - val_loss: 11.7518 - val_accuracy: 0.0109\n",
            "20/20 [==============================] - 0s 3ms/step - loss: 11.7518 - accuracy: 0.0109\n",
            "Accuracy: 1.09%\n",
            "Loss: 11.75178050994873\n"
          ],
          "name": "stdout"
        }
      ]
    }
  ]
}